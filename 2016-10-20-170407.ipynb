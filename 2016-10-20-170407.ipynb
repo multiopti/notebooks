{
 "cells": [
  {
   "cell_type": "code",
   "execution_count": 1,
   "metadata": {
    "collapsed": false
   },
   "outputs": [],
   "source": [
    "#!/usr/bin/env python\n",
    "#import sys, math # load system and math module\n",
    "#from math import *\n",
    "import numpy as np\n",
    "import matplotlib.pyplot as plt\n",
    "import random\n",
    "\n",
    "from scipy import signal\n",
    "\n"
   ]
  },
  {
   "cell_type": "code",
   "execution_count": 2,
   "metadata": {
    "collapsed": false
   },
   "outputs": [
    {
     "data": {
      "image/png": "[encoded data removed]",
      "text/plain": [
       "<matplotlib.figure.Figure at 0x98e16b0>"
      ]
     },
     "metadata": {},
     "output_type": "display_data"
    }
   ],
   "source": [
    "# Import matplotlib (plotting) and numpy (numerical arrays).\n",
    "# This enables their use in the Notebook.\n",
    "%matplotlib inline\n",
    "\n",
    "# Import IPython's interact function which is used below to\n",
    "# build the interactive widgets\n",
    "from IPython.html.widgets import interact\n",
    "\n",
    "def plot_sys(final_p = 5000, falla1=False, falla2=False):\n",
    "    \n",
    "    sampling_t = 1\n",
    "\n",
    "    t = np.arange(0.0, final_p, sampling_t)\n",
    "    u = signal.square(2 * np.pi * 0.005 * t)\n",
    "    y = np.zeros(len(t))\n",
    "    \n",
    "    if ((falla1 == False)&(falla2 == False)):\n",
    "\n",
    "        for i in range(1,len(t)):\n",
    "            y[i] = 0.8*y[i-1] + 2*u[i-1] + random.uniform(-0.1,0.1)\n",
    "    else:\n",
    "        if (falla1 == True):\n",
    "            \n",
    "            for i in range(1,int(len(t)/2)):\n",
    "                y[i] = 0.8*y[i-1] + 2*u[i-1] + random.uniform(-0.1,0.1)\n",
    "\n",
    "            for i in range(int(1+len(t)/2),len(t)):\n",
    "                y[i] = 0.9*y[i-1] + 2*u[i-1] + random.uniform(-0.1,0.1)\n",
    "    \n",
    "        if (falla2 == True):\n",
    "           \n",
    "            for i in range(1,int(len(t)/2)):\n",
    "                y[i] = 0.8*y[i-1] + 2*u[i-1] + random.uniform(-0.1,0.1)\n",
    "\n",
    "            for i in range(int(1+len(t)/2),len(t)):\n",
    "                y[i] = 0.9*y[i-1] + (2+0.001*(i-int(1+len(t)/2)))*u[i-1] + random.uniform(-1,1)\n",
    "\n",
    "    plt.plot(t, y)\n",
    "    plt.show()\n",
    "\n",
    "# The interact function automatically builds a user interface for exploring the\n",
    "# plot_sys function.\n",
    "interact(plot_sys, final_p=(10, 10000, 1), falla1=False,falla2=False);"
   ]
  },
  {
   "cell_type": "code",
   "execution_count": null,
   "metadata": {
    "collapsed": true
   },
   "outputs": [],
   "source": []
  }
 ],
 "metadata": {
  "anaconda-cloud": {},
  "kernelspec": {
   "display_name": "Python [Root]",
   "language": "python",
   "name": "Python [Root]"
  },
  "language_info": {
   "codemirror_mode": {
    "name": "ipython",
    "version": 3
   },
   "file_extension": ".py",
   "mimetype": "text/x-python",
   "name": "python",
   "nbconvert_exporter": "python",
   "pygments_lexer": "ipython3",
   "version": "3.5.2"
  },
  "widgets": {
   "state": {
    "79ba7eb3c72b4bc0950fe81b23a10c7c": {
     "views": [
      {
       "cell_index": 1
      }
     ]
    }
   },
   "version": "1.2.0"
  }
 },
 "nbformat": 4,
 "nbformat_minor": 0
}
